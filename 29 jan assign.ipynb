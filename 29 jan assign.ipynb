{
 "cells": [
  {
   "cell_type": "code",
   "execution_count": null,
   "id": "73d4a4e5-6cb0-4d2f-bfe4-0916dabaa7d8",
   "metadata": {},
   "outputs": [],
   "source": [
    "Q.1 Who developed python programming language?\n",
    "Ans Guido van Rossum"
   ]
  },
  {
   "cell_type": "code",
   "execution_count": null,
   "id": "4603db84-5861-49c8-aee6-43c7c3fc58a1",
   "metadata": {},
   "outputs": [],
   "source": [
    "Q.2 Which type of programming does python support?\n",
    "Ans Python support structured , functional and object oriented programming."
   ]
  },
  {
   "cell_type": "code",
   "execution_count": null,
   "id": "83ee780f-5c82-4d88-9643-2c1a103bd0f5",
   "metadata": {},
   "outputs": [],
   "source": [
    "Q.3 Is python case sensitive when dealing with identifiers?\n",
    "Ans yes, python is case sensitive when dealing with identifiers."
   ]
  },
  {
   "cell_type": "code",
   "execution_count": null,
   "id": "c3f3bd43-46bd-4bfb-9e88-75f786101d1c",
   "metadata": {},
   "outputs": [],
   "source": [
    "Q.4  What is the correct extension of python file?\n",
    "Ans  '.py' is the correct extension of python file."
   ]
  },
  {
   "cell_type": "code",
   "execution_count": null,
   "id": "1e762988-db8c-4860-99c9-e6db47187902",
   "metadata": {},
   "outputs": [],
   "source": [
    "Q.5 Is python code compiled or interpreted?\n",
    "Ans Python code is interpreted."
   ]
  },
  {
   "cell_type": "code",
   "execution_count": null,
   "id": "fda66c42-b382-44d1-b6c7-a3c757486b42",
   "metadata": {},
   "outputs": [],
   "source": [
    "Q.6 Name a few blocks of code used to define in python language?\n",
    "Ans The few blocks are parenthesis'()',box bracket'[]', curly bracket'{}' which are used to\n",
    "define in python language."
   ]
  },
  {
   "cell_type": "code",
   "execution_count": null,
   "id": "3cb3b0a4-4bfc-4d8b-9b88-2caca3d79a20",
   "metadata": {},
   "outputs": [],
   "source": [
    "Q.7 State a character used to define single line comments in python?\n",
    "Ans Hash sign '#'."
   ]
  },
  {
   "cell_type": "code",
   "execution_count": null,
   "id": "6aceba03-26d1-40c8-b1bb-784ea037c465",
   "metadata": {},
   "outputs": [],
   "source": [
    "Q.8 Mention function which can help us to find the version of python that we are currently working on?\n",
    "Ans sys.version is the command which help to find he current version of python."
   ]
  },
  {
   "cell_type": "code",
   "execution_count": null,
   "id": "466fec48-a943-4d19-998b-187c2cec8e8f",
   "metadata": {},
   "outputs": [],
   "source": [
    "Q.9 Python supports the creation of anonymus function at run time, using a construct called?\n",
    "Ans Lambda"
   ]
  },
  {
   "cell_type": "code",
   "execution_count": null,
   "id": "c240ebfb-ee98-4c0e-8d83-533c972df78e",
   "metadata": {},
   "outputs": [],
   "source": [
    "Q.10 What does pip stands for python?\n",
    "Ans pip stands for python package index."
   ]
  },
  {
   "cell_type": "code",
   "execution_count": null,
   "id": "fbf51b97-b783-4aed-9f5f-000bddeec668",
   "metadata": {},
   "outputs": [],
   "source": [
    "Q.11 Mention a few built in functions in python?\n",
    "Ans The few built in functions are sorted(), reversed(),min/max(),list(),set(),dict(),pow(),len() etc."
   ]
  },
  {
   "cell_type": "code",
   "execution_count": null,
   "id": "e4f07df0-c2a1-4531-994e-eef1af0b6f3f",
   "metadata": {},
   "outputs": [],
   "source": [
    "Q.12 What is the maximum possible length of an identifier in python?\n",
    "Ans The maximum possible length of an identifier in python is 79."
   ]
  },
  {
   "cell_type": "code",
   "execution_count": null,
   "id": "0c916192-b372-4c72-99be-0d73c6af40fb",
   "metadata": {},
   "outputs": [],
   "source": [
    "Q.13 What are the benefits of using python?\n",
    "Ans The benefits of using python are:-\n",
    "1) It is easy to learn read and code in python.\n",
    "2) Dynamic typing is available.\n",
    "3) Easy to portable.\n",
    "4) Extensive Third-Party Libraries"
   ]
  },
  {
   "cell_type": "code",
   "execution_count": null,
   "id": "0ee8ecd6-7be7-4712-b470-5ee94b4a73b2",
   "metadata": {},
   "outputs": [],
   "source": [
    "Q.14 How is memory managed in python?\n",
    "Ans Python has a private heap that stores our program’s objects and data structures. Python memory manager takes care of the bulk of the memory management work and allows us to concentrate\n",
    "on our code."
   ]
  },
  {
   "cell_type": "code",
   "execution_count": null,
   "id": "3dcf6333-c926-40b0-b830-545005b6d136",
   "metadata": {},
   "outputs": [],
   "source": [
    "Q.15 How to install python on windows and set path variables?\n",
    "Ans To install python we just need to open the web browser and download anaconda in which we get all the python platforms \n",
    "    like jupiter, spider etc. We can also download vs code and then install the packages.\n",
    "    To set path variable following steps to be followed:-\n",
    "    1. Right click on My Computer and click on properties.\n",
    "    2. Click on Advanced System settings\n",
    "    3. Click on Environment Variable tab.\n",
    "    4. Click on new tab of user variables.\n",
    "    5. Write path in variable name\n",
    "    6. Copy the path of Python folder\n",
    "    7. Paste path of Python in variable value.\n",
    "    8. Click on Ok button\n",
    "    9. Click on Ok button"
   ]
  },
  {
   "cell_type": "code",
   "execution_count": null,
   "id": "2b913809-2398-40d7-9ecc-2a4c666a02c4",
   "metadata": {},
   "outputs": [],
   "source": [
    "Q.16 Is indentation required in python?\n",
    "Ans Yes, indentation is required in python."
   ]
  }
 ],
 "metadata": {
  "kernelspec": {
   "display_name": "Python 3 (ipykernel)",
   "language": "python",
   "name": "python3"
  },
  "language_info": {
   "codemirror_mode": {
    "name": "ipython",
    "version": 3
   },
   "file_extension": ".py",
   "mimetype": "text/x-python",
   "name": "python",
   "nbconvert_exporter": "python",
   "pygments_lexer": "ipython3",
   "version": "3.10.8"
  }
 },
 "nbformat": 4,
 "nbformat_minor": 5
}
